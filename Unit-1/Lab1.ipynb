{
 "cells": [
  {
   "cell_type": "code",
   "execution_count": 5,
   "id": "b589b98f-405b-46cc-96d6-ad5feee296fd",
   "metadata": {},
   "outputs": [],
   "source": [
    "import math\n",
    "def basic_sigmoid(x):\n",
    "    s=1/(1+math.exp(-x))\n",
    "    return s"
   ]
  },
  {
   "cell_type": "code",
   "execution_count": 7,
   "id": "76a70057-6a39-4fee-b5c8-06a846021db8",
   "metadata": {},
   "outputs": [
    {
     "data": {
      "text/plain": [
       "0.9820137900379085"
      ]
     },
     "execution_count": 7,
     "metadata": {},
     "output_type": "execute_result"
    }
   ],
   "source": [
    "basic_sigmoid(4)"
   ]
  },
  {
   "cell_type": "code",
   "execution_count": 9,
   "id": "3033560f-8b5d-47c0-a13d-a89f179d3b27",
   "metadata": {},
   "outputs": [
    {
     "ename": "TypeError",
     "evalue": "bad operand type for unary -: 'list'",
     "output_type": "error",
     "traceback": [
      "\u001b[1;31m---------------------------------------------------------------------------\u001b[0m",
      "\u001b[1;31mTypeError\u001b[0m                                 Traceback (most recent call last)",
      "Cell \u001b[1;32mIn[9], line 2\u001b[0m\n\u001b[0;32m      1\u001b[0m x\u001b[38;5;241m=\u001b[39m[\u001b[38;5;241m1\u001b[39m,\u001b[38;5;241m2\u001b[39m,\u001b[38;5;241m3\u001b[39m]\n\u001b[1;32m----> 2\u001b[0m basic_sigmoid(x)\n",
      "Cell \u001b[1;32mIn[5], line 3\u001b[0m, in \u001b[0;36mbasic_sigmoid\u001b[1;34m(x)\u001b[0m\n\u001b[0;32m      2\u001b[0m \u001b[38;5;28;01mdef\u001b[39;00m \u001b[38;5;21mbasic_sigmoid\u001b[39m(x):\n\u001b[1;32m----> 3\u001b[0m     s\u001b[38;5;241m=\u001b[39m\u001b[38;5;241m1\u001b[39m\u001b[38;5;241m/\u001b[39m(\u001b[38;5;241m1\u001b[39m\u001b[38;5;241m+\u001b[39mmath\u001b[38;5;241m.\u001b[39mexp(\u001b[38;5;241m-\u001b[39mx))\n\u001b[0;32m      4\u001b[0m     \u001b[38;5;28;01mreturn\u001b[39;00m s\n",
      "\u001b[1;31mTypeError\u001b[0m: bad operand type for unary -: 'list'"
     ]
    }
   ],
   "source": [
    "x=[1,2,3]\n",
    "basic_sigmoid(x)"
   ]
  },
  {
   "cell_type": "code",
   "execution_count": 15,
   "id": "4a5915b2-8ff3-4af8-817b-7a19f1c35e22",
   "metadata": {},
   "outputs": [
    {
     "name": "stdout",
     "output_type": "stream",
     "text": [
      "[ 2.71828183  7.3890561  54.59815003]\n",
      "[4 5 7]\n"
     ]
    }
   ],
   "source": [
    "import numpy as np\n",
    "x=np.array([1,2,4])\n",
    "print(np.exp(x))\n",
    "print(x+3)"
   ]
  },
  {
   "cell_type": "code",
   "execution_count": 17,
   "id": "26742965-351a-48d4-aae9-787beb35066b",
   "metadata": {},
   "outputs": [
    {
     "data": {
      "text/plain": [
       "\u001b[1;31mSignature:\u001b[0m       \u001b[0mnp\u001b[0m\u001b[1;33m.\u001b[0m\u001b[0mexp\u001b[0m\u001b[1;33m(\u001b[0m\u001b[1;33m*\u001b[0m\u001b[0margs\u001b[0m\u001b[1;33m,\u001b[0m \u001b[1;33m**\u001b[0m\u001b[0mkwargs\u001b[0m\u001b[1;33m)\u001b[0m\u001b[1;33m\u001b[0m\u001b[1;33m\u001b[0m\u001b[0m\n",
       "\u001b[1;31mType:\u001b[0m            ufunc\n",
       "\u001b[1;31mString form:\u001b[0m     <ufunc 'exp'>\n",
       "\u001b[1;31mFile:\u001b[0m            c:\\users\\amrut\\anaconda3\\lib\\site-packages\\numpy\\__init__.py\n",
       "\u001b[1;31mDocstring:\u001b[0m      \n",
       "exp(x, /, out=None, *, where=True, casting='same_kind', order='K', dtype=None, subok=True[, signature, extobj])\n",
       "\n",
       "Calculate the exponential of all elements in the input array.\n",
       "\n",
       "Parameters\n",
       "----------\n",
       "x : array_like\n",
       "    Input values.\n",
       "out : ndarray, None, or tuple of ndarray and None, optional\n",
       "    A location into which the result is stored. If provided, it must have\n",
       "    a shape that the inputs broadcast to. If not provided or None,\n",
       "    a freshly-allocated array is returned. A tuple (possible only as a\n",
       "    keyword argument) must have length equal to the number of outputs.\n",
       "where : array_like, optional\n",
       "    This condition is broadcast over the input. At locations where the\n",
       "    condition is True, the `out` array will be set to the ufunc result.\n",
       "    Elsewhere, the `out` array will retain its original value.\n",
       "    Note that if an uninitialized `out` array is created via the default\n",
       "    ``out=None``, locations within it where the condition is False will\n",
       "    remain uninitialized.\n",
       "**kwargs\n",
       "    For other keyword-only arguments, see the\n",
       "    :ref:`ufunc docs <ufuncs.kwargs>`.\n",
       "\n",
       "Returns\n",
       "-------\n",
       "out : ndarray or scalar\n",
       "    Output array, element-wise exponential of `x`.\n",
       "    This is a scalar if `x` is a scalar.\n",
       "\n",
       "See Also\n",
       "--------\n",
       "expm1 : Calculate ``exp(x) - 1`` for all elements in the array.\n",
       "exp2  : Calculate ``2**x`` for all elements in the array.\n",
       "\n",
       "Notes\n",
       "-----\n",
       "The irrational number ``e`` is also known as Euler's number.  It is\n",
       "approximately 2.718281, and is the base of the natural logarithm,\n",
       "``ln`` (this means that, if :math:`x = \\ln y = \\log_e y`,\n",
       "then :math:`e^x = y`. For real input, ``exp(x)`` is always positive.\n",
       "\n",
       "For complex arguments, ``x = a + ib``, we can write\n",
       ":math:`e^x = e^a e^{ib}`.  The first term, :math:`e^a`, is already\n",
       "known (it is the real argument, described above).  The second term,\n",
       ":math:`e^{ib}`, is :math:`\\cos b + i \\sin b`, a function with\n",
       "magnitude 1 and a periodic phase.\n",
       "\n",
       "References\n",
       "----------\n",
       ".. [1] Wikipedia, \"Exponential function\",\n",
       "       https://en.wikipedia.org/wiki/Exponential_function\n",
       ".. [2] M. Abramovitz and I. A. Stegun, \"Handbook of Mathematical Functions\n",
       "       with Formulas, Graphs, and Mathematical Tables,\" Dover, 1964, p. 69,\n",
       "       https://personal.math.ubc.ca/~cbm/aands/page_69.htm\n",
       "\n",
       "Examples\n",
       "--------\n",
       "Plot the magnitude and phase of ``exp(x)`` in the complex plane:\n",
       "\n",
       ">>> import matplotlib.pyplot as plt\n",
       "\n",
       ">>> x = np.linspace(-2*np.pi, 2*np.pi, 100)\n",
       ">>> xx = x + 1j * x[:, np.newaxis] # a + ib over complex plane\n",
       ">>> out = np.exp(xx)\n",
       "\n",
       ">>> plt.subplot(121)\n",
       ">>> plt.imshow(np.abs(out),\n",
       "...            extent=[-2*np.pi, 2*np.pi, -2*np.pi, 2*np.pi], cmap='gray')\n",
       ">>> plt.title('Magnitude of exp(x)')\n",
       "\n",
       ">>> plt.subplot(122)\n",
       ">>> plt.imshow(np.angle(out),\n",
       "...            extent=[-2*np.pi, 2*np.pi, -2*np.pi, 2*np.pi], cmap='hsv')\n",
       ">>> plt.title('Phase (angle) of exp(x)')\n",
       ">>> plt.show()\n",
       "\u001b[1;31mClass docstring:\u001b[0m\n",
       "Functions that operate element by element on whole arrays.\n",
       "\n",
       "To see the documentation for a specific ufunc, use `info`.  For\n",
       "example, ``np.info(np.sin)``.  Because ufuncs are written in C\n",
       "(for speed) and linked into Python with NumPy's ufunc facility,\n",
       "Python's help() function finds this page whenever help() is called\n",
       "on a ufunc.\n",
       "\n",
       "A detailed explanation of ufuncs can be found in the docs for :ref:`ufuncs`.\n",
       "\n",
       "**Calling ufuncs:** ``op(*x[, out], where=True, **kwargs)``\n",
       "\n",
       "Apply `op` to the arguments `*x` elementwise, broadcasting the arguments.\n",
       "\n",
       "The broadcasting rules are:\n",
       "\n",
       "* Dimensions of length 1 may be prepended to either array.\n",
       "* Arrays may be repeated along dimensions of length 1.\n",
       "\n",
       "Parameters\n",
       "----------\n",
       "*x : array_like\n",
       "    Input arrays.\n",
       "out : ndarray, None, or tuple of ndarray and None, optional\n",
       "    Alternate array object(s) in which to put the result; if provided, it\n",
       "    must have a shape that the inputs broadcast to. A tuple of arrays\n",
       "    (possible only as a keyword argument) must have length equal to the\n",
       "    number of outputs; use None for uninitialized outputs to be\n",
       "    allocated by the ufunc.\n",
       "where : array_like, optional\n",
       "    This condition is broadcast over the input. At locations where the\n",
       "    condition is True, the `out` array will be set to the ufunc result.\n",
       "    Elsewhere, the `out` array will retain its original value.\n",
       "    Note that if an uninitialized `out` array is created via the default\n",
       "    ``out=None``, locations within it where the condition is False will\n",
       "    remain uninitialized.\n",
       "**kwargs\n",
       "    For other keyword-only arguments, see the :ref:`ufunc docs <ufuncs.kwargs>`.\n",
       "\n",
       "Returns\n",
       "-------\n",
       "r : ndarray or tuple of ndarray\n",
       "    `r` will have the shape that the arrays in `x` broadcast to; if `out` is\n",
       "    provided, it will be returned. If not, `r` will be allocated and\n",
       "    may contain uninitialized values. If the function has more than one\n",
       "    output, then the result will be a tuple of arrays."
      ]
     },
     "metadata": {},
     "output_type": "display_data"
    }
   ],
   "source": [
    "np.exp?\n"
   ]
  },
  {
   "cell_type": "code",
   "execution_count": 23,
   "id": "277321e1-cd82-42de-b29e-7b2967bafdbe",
   "metadata": {},
   "outputs": [],
   "source": [
    "def sigmoid(x):\n",
    "    s=1/(1+np.exp(-x))\n",
    "    return s"
   ]
  },
  {
   "cell_type": "code",
   "execution_count": 25,
   "id": "89791e19-ce30-49c3-9c58-086de6685668",
   "metadata": {},
   "outputs": [
    {
     "data": {
      "text/plain": [
       "array([0.73105858, 0.88079708, 0.95257413])"
      ]
     },
     "execution_count": 25,
     "metadata": {},
     "output_type": "execute_result"
    }
   ],
   "source": [
    "x=np.array([1,2,3])\n",
    "sigmoid(x)"
   ]
  },
  {
   "cell_type": "code",
   "execution_count": 37,
   "id": "f5560005-5b52-439f-970f-e0324a689155",
   "metadata": {},
   "outputs": [],
   "source": [
    "def sigmoid_grad(x):\n",
    "    s=1/(1+np.exp(-x))\n",
    "    res=s*(1-s)\n",
    "    return res"
   ]
  },
  {
   "cell_type": "code",
   "execution_count": 39,
   "id": "ef9091f7-0bc0-493c-9f98-9f39bccdf9d0",
   "metadata": {},
   "outputs": [
    {
     "data": {
      "text/plain": [
       "array([0.19661193, 0.10499359, 0.04517666])"
      ]
     },
     "execution_count": 39,
     "metadata": {},
     "output_type": "execute_result"
    }
   ],
   "source": [
    "x=np.array([1,2,3])\n",
    "sigmoid_grad(x)"
   ]
  },
  {
   "cell_type": "markdown",
   "id": "49f92d31-1e36-4059-811a-ba591c7ab039",
   "metadata": {},
   "source": [
    "## Reshaping"
   ]
  },
  {
   "cell_type": "code",
   "execution_count": 65,
   "id": "2e527381-2940-44e0-9487-e24a75779fab",
   "metadata": {},
   "outputs": [],
   "source": [
    "def image2vector(image):\n",
    "    v=image.reshape((image.shape[0]*image.shape[1]*image.shape[2]),1)\n",
    "    return v\n",
    "    "
   ]
  },
  {
   "cell_type": "code",
   "execution_count": 67,
   "id": "15fb299c-3180-4049-a8a1-f00b095fed5f",
   "metadata": {},
   "outputs": [
    {
     "data": {
      "text/plain": [
       "array([[0.67826139],\n",
       "       [0.2920281 ],\n",
       "       [0.90714982],\n",
       "       [0.52835635],\n",
       "       [0.4215251 ],\n",
       "       [0.45017551],\n",
       "       [0.92814   ],\n",
       "       [0.9667764 ],\n",
       "       [0.83849   ],\n",
       "       [0.87467892],\n",
       "       [0.87539   ],\n",
       "       [0.12232   ],\n",
       "       [0.372331  ],\n",
       "       [0.875381  ],\n",
       "       [0.21325   ],\n",
       "       [0.31143223],\n",
       "       [0.1123243 ],\n",
       "       [0.8718152 ]])"
      ]
     },
     "execution_count": 67,
     "metadata": {},
     "output_type": "execute_result"
    }
   ],
   "source": [
    "image=np.array([[[0.67826139,0.2920281],\n",
    "                 [0.90714982,0.528356347],\n",
    "                 [0.4215251,0.45017551]],\n",
    "                [[0.92814,0.9667764],\n",
    "                 [0.83849,0.87467892],\n",
    "                 [0.87539,0.12232]],\n",
    "                [[0.372331,0.875381],\n",
    "                 [0.21325,0.31143223],\n",
    "                 [0.1123243,0.8718152]]])\n",
    "image2vector(image)"
   ]
  },
  {
   "cell_type": "code",
   "execution_count": 79,
   "id": "5ffb8365-ff71-46f3-9f7e-3c79a51177f9",
   "metadata": {},
   "outputs": [],
   "source": [
    "def normalization(y):\n",
    "    x_norm=np.linalg.norm(x,axis=1,keepdims=True)\n",
    "    y=y/x_norm\n",
    "    return y\n",
    "    "
   ]
  },
  {
   "cell_type": "code",
   "execution_count": 81,
   "id": "f0e39fe5-26b3-4bb1-9fa6-85e899f7b986",
   "metadata": {},
   "outputs": [
    {
     "data": {
      "text/plain": [
       "array([[0.        , 0.999992  , 0.00399997],\n",
       "       [0.26726124, 0.80178373, 0.53452248]])"
      ]
     },
     "execution_count": 81,
     "metadata": {},
     "output_type": "execute_result"
    }
   ],
   "source": [
    "x=np.array([\n",
    "    [0,1000,4],\n",
    "    [2,6,4]])\n",
    "normalization(x)"
   ]
  },
  {
   "cell_type": "markdown",
   "id": "3fb30870-0c3d-4e9b-bc52-c8da504296ba",
   "metadata": {},
   "source": [
    "## Softmax function"
   ]
  },
  {
   "cell_type": "code",
   "execution_count": 99,
   "id": "868deb51-85c7-4429-9e3c-e573ad35b0c1",
   "metadata": {},
   "outputs": [],
   "source": [
    "def softmax(x):\n",
    "    x_exp=np.exp(x)\n",
    "    x_sum=np.sum(x_exp,axis=1,keepdims=True)\n",
    "    s=x_exp/x_sum\n",
    "    return s"
   ]
  },
  {
   "cell_type": "code",
   "execution_count": 101,
   "id": "68c7d86f-9201-47f7-9e77-9ab8055a074d",
   "metadata": {},
   "outputs": [
    {
     "data": {
      "text/plain": [
       "array([[0.09003057, 0.24472847, 0.66524096],\n",
       "       [0.09003057, 0.24472847, 0.66524096]])"
      ]
     },
     "execution_count": 101,
     "metadata": {},
     "output_type": "execute_result"
    }
   ],
   "source": [
    "x=np.array([[1,2,3],[2,3,4]])\n",
    "softmax(x)"
   ]
  },
  {
   "cell_type": "markdown",
   "id": "0fdc0d6c-e192-4b35-8093-bbc79a1714c8",
   "metadata": {},
   "source": [
    "## Vectoization"
   ]
  },
  {
   "cell_type": "code",
   "execution_count": 106,
   "id": "f26d4d08-8a2e-4344-84d3-d074d8de2c17",
   "metadata": {},
   "outputs": [
    {
     "name": "stdout",
     "output_type": "stream",
     "text": [
      "221\n",
      "0.0\n"
     ]
    }
   ],
   "source": [
    "import time\n",
    "\n",
    "s1=[0,2,3,4,5,6,8,9,4]\n",
    "s2=[1,2,3,4,6,8,9,2,6]\n",
    "\n",
    "t=time.process_time()\n",
    "dot=0\n",
    "for i in range(len(s1)):\n",
    "    dot+=s1[i]*s2[i]\n",
    "t1=time.process_time()    \n",
    "print(dot)\n",
    "print(t1-t)"
   ]
  },
  {
   "cell_type": "code",
   "execution_count": null,
   "id": "eaa95281-b8a1-442c-975f-6e7cb6da1c1f",
   "metadata": {},
   "outputs": [],
   "source": []
  }
 ],
 "metadata": {
  "kernelspec": {
   "display_name": "Python 3 (ipykernel)",
   "language": "python",
   "name": "python3"
  },
  "language_info": {
   "codemirror_mode": {
    "name": "ipython",
    "version": 3
   },
   "file_extension": ".py",
   "mimetype": "text/x-python",
   "name": "python",
   "nbconvert_exporter": "python",
   "pygments_lexer": "ipython3",
   "version": "3.12.4"
  }
 },
 "nbformat": 4,
 "nbformat_minor": 5
}
